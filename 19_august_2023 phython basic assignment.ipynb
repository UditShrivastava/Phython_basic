{
 "cells": [
  {
   "cell_type": "code",
   "execution_count": 8,
   "id": "ed139ec4-e93b-4a93-bd85-1aaff70689ed",
   "metadata": {},
   "outputs": [
    {
     "name": "stdout",
     "output_type": "stream",
     "text": [
      "x= 200\n",
      "y= 100\n"
     ]
    }
   ],
   "source": [
    "x = 100\n",
    "y = 200\n",
    "\n",
    "x,y= y,x\n",
    "\n",
    "print(\"x=\",x)\n",
    "print(\"y=\",y)"
   ]
  },
  {
   "cell_type": "code",
   "execution_count": 12,
   "id": "eb8d0018-3a4b-4d44-9a9e-8aec337cfd2d",
   "metadata": {},
   "outputs": [
    {
     "name": "stdin",
     "output_type": "stream",
     "text": [
      "Enter the length of rectangle 10\n",
      "Enter the width of rectangle 10\n"
     ]
    },
    {
     "name": "stdout",
     "output_type": "stream",
     "text": [
      "100.0\n"
     ]
    }
   ],
   "source": [
    "length = float(input(\"Enter the length of rectangle\"))\n",
    "width  = float(input(\"Enter the width of rectangle\"))\n",
    "\n",
    "area = length*width    \n",
    "print(area)"
   ]
  },
  {
   "cell_type": "code",
   "execution_count": 16,
   "id": "09aec510-4d47-4287-b96f-8d334bb0a248",
   "metadata": {},
   "outputs": [
    {
     "name": "stdin",
     "output_type": "stream",
     "text": [
      "Enter the temperature of c 10\n"
     ]
    },
    {
     "name": "stdout",
     "output_type": "stream",
     "text": [
      "The temperature is in farenhit 50.0\n"
     ]
    }
   ],
   "source": [
    "c = float(input(\"Enter the temperature of c\"))\n",
    "f = (c*9/5)+32\n",
    "print(\"The temperature is in farenhit\",f)\n"
   ]
  },
  {
   "cell_type": "code",
   "execution_count": 17,
   "id": "a3095b87-6156-48ed-86d7-129b789dc940",
   "metadata": {},
   "outputs": [
    {
     "data": {
      "text/plain": [
       "8"
      ]
     },
     "execution_count": 17,
     "metadata": {},
     "output_type": "execute_result"
    }
   ],
   "source": [
    "l= \"pwskills\"\n",
    "len(l)"
   ]
  },
  {
   "cell_type": "code",
   "execution_count": 18,
   "id": "2f4dbf1f-483c-442e-bbb2-95504ea8c7eb",
   "metadata": {},
   "outputs": [
    {
     "data": {
      "text/plain": [
       "'pwskills'"
      ]
     },
     "execution_count": 18,
     "metadata": {},
     "output_type": "execute_result"
    }
   ],
   "source": [
    "l"
   ]
  },
  {
   "cell_type": "code",
   "execution_count": 19,
   "id": "b6d849a5-0ac0-41dd-8377-3ce2bde3b3d6",
   "metadata": {},
   "outputs": [
    {
     "data": {
      "text/plain": [
       "str"
      ]
     },
     "execution_count": 19,
     "metadata": {},
     "output_type": "execute_result"
    }
   ],
   "source": [
    "type(l)"
   ]
  },
  {
   "cell_type": "code",
   "execution_count": 5,
   "id": "a23d88cc-5f88-4664-80ef-c7573230b038",
   "metadata": {},
   "outputs": [
    {
     "name": "stdin",
     "output_type": "stream",
     "text": [
      "Enter a sentence:  aei\n"
     ]
    },
    {
     "name": "stdout",
     "output_type": "stream",
     "text": [
      "The number of vowels in the sentence is: 3\n"
     ]
    }
   ],
   "source": [
    "sentence = input(\"Enter a sentence: \")\n",
    "sentence = sentence.lower()\n",
    "vowel_count = 0\n",
    "for char in sentence:\n",
    "    if char in \"aeiou\":\n",
    "        vowel_count += 1\n",
    "print(\"The number of vowels in the sentence is:\", vowel_count)"
   ]
  },
  {
   "cell_type": "code",
   "execution_count": 8,
   "id": "1dfcd7c8-1209-4a39-b9ab-25bd3104c1ac",
   "metadata": {},
   "outputs": [
    {
     "data": {
      "text/plain": [
       "'tnemngissa nohtyhp tsrif ym si sihT dna avatsavirhS tidU si eman yM'"
      ]
     },
     "execution_count": 8,
     "metadata": {},
     "output_type": "execute_result"
    }
   ],
   "source": [
    "p= \"My name is Udit Shrivastava and This is my first phython assignment\"\n",
    "p[::-1]"
   ]
  },
  {
   "cell_type": "code",
   "execution_count": 10,
   "id": "98232a5d-0dc4-4cd1-9c60-d7b6852b8092",
   "metadata": {},
   "outputs": [
    {
     "name": "stdin",
     "output_type": "stream",
     "text": [
      "Enter a string LEVEL\n"
     ]
    },
    {
     "name": "stdout",
     "output_type": "stream",
     "text": [
      "The string is palindrome\n"
     ]
    }
   ],
   "source": [
    "input_string = input(\"Enter a string\")\n",
    "reversed_string = input_string[::-1]\n",
    "if input_string == reversed_string:\n",
    "    print(\"The string is palindrome\")\n",
    "else:\n",
    "    print(\"The string is  not palindrome\")"
   ]
  },
  {
   "cell_type": "code",
   "execution_count": 9,
   "id": "4e2040e3-cee6-485f-b55a-4de4a793959e",
   "metadata": {},
   "outputs": [
    {
     "name": "stdin",
     "output_type": "stream",
     "text": [
      "Enter a string:   This is my first phython assignment\n"
     ]
    },
    {
     "name": "stdout",
     "output_type": "stream",
     "text": [
      "Thisismyfirstphythonassignment\n"
     ]
    }
   ],
   "source": [
    "input_string = input(\"Enter a string: \")\n",
    "new_string = input_string.replace(\" \", \"\")\n",
    "print(new_string)"
   ]
  },
  {
   "cell_type": "code",
   "execution_count": null,
   "id": "d7742835-f62a-41ed-ab31-d8aad8f7352b",
   "metadata": {},
   "outputs": [],
   "source": []
  }
 ],
 "metadata": {
  "kernelspec": {
   "display_name": "Python 3 (ipykernel)",
   "language": "python",
   "name": "python3"
  },
  "language_info": {
   "codemirror_mode": {
    "name": "ipython",
    "version": 3
   },
   "file_extension": ".py",
   "mimetype": "text/x-python",
   "name": "python",
   "nbconvert_exporter": "python",
   "pygments_lexer": "ipython3",
   "version": "3.10.8"
  }
 },
 "nbformat": 4,
 "nbformat_minor": 5
}
